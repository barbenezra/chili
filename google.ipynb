{
 "cells": [
  {
   "cell_type": "code",
   "execution_count": 352,
   "metadata": {
    "collapsed": false,
    "deletable": true,
    "editable": true
   },
   "outputs": [],
   "source": [
    "import os\n",
    "import random\n",
    "import tensorflow as tf\n",
    "import numpy as np\n",
    "from skimage import io, filters, transform"
   ]
  },
  {
   "cell_type": "code",
   "execution_count": 353,
   "metadata": {
    "collapsed": false,
    "deletable": true,
    "editable": true
   },
   "outputs": [],
   "source": [
    "path = 'C:/Users/Bar/Desktop/FinalDataset'\n",
    "classes_count = 51\n",
    "image_width_pixel = image_height_pixel = 28\n",
    "image_pixels = image_width_pixel * image_height_pixel\n",
    "\n",
    "train_vectors = []\n",
    "validation_vectors=[]\n",
    "test_vectors = []"
   ]
  },
  {
   "cell_type": "code",
   "execution_count": 354,
   "metadata": {
    "collapsed": false
   },
   "outputs": [],
   "source": [
    "def read_image(image_path):\n",
    "    image = io.imread(image_path, as_grey=True)\n",
    "    image = transform.resize(image, (image_width_pixel, image_height_pixel))\n",
    "    image = np.reshape(image, image_width_pixel * image_height_pixel)\n",
    "    image = image.astype(float)\n",
    "    image = image / np.max(image)\n",
    "    image = image.astype(int)\n",
    "    return image\n",
    "    "
   ]
  },
  {
   "cell_type": "code",
   "execution_count": 355,
   "metadata": {
    "collapsed": false,
    "deletable": true,
    "editable": true
   },
   "outputs": [],
   "source": [
    "# loop through all of the folders (from 0 to 51)\n",
    "for label in range(classes_count - 1):\n",
    "    \n",
    "    # get all of the files in the current label folder\n",
    "    current_label_files = [entry.path for entry in os.scandir('{}/{}'.format(path, label)) if entry.is_file()]\n",
    "    \n",
    "    # shuffles the label files so it won't be same data everytime\n",
    "    random.shuffle(current_label_files)\n",
    "    train_count = int(np.ceil(len(current_label_files) * 0.6))\n",
    "    validation_count = int(np.ceil(len(current_label_files) * 0.2))\n",
    "    train_files = current_label_files[:train_count]\n",
    "    validation_files = current_label_files[train_count:train_count+validation_count]\n",
    "    test_files = current_label_files[train_count+validation_count:]\n",
    "    \n",
    "    for image_path in train_files:\n",
    "        image = read_image(train_image_path)\n",
    "        train_vectors.append((np.eye(classes_count)[label], image))\n",
    "        \n",
    "    for image_path in validation_files:\n",
    "        image = read_image(image_path)\n",
    "        validation_vectors.append((np.eye(classes_count)[label], image))\n",
    "        \n",
    "    for image_path in test_files:\n",
    "        image = read_image(image_path)\n",
    "        test_vectors.append((np.eye(classes_count)[label], image))\n",
    "\n",
    "random.shuffle(validation_vectors)\n",
    "random.shuffle(test_vectors)"
   ]
  },
  {
   "cell_type": "code",
   "execution_count": 356,
   "metadata": {
    "collapsed": true,
    "deletable": true,
    "editable": true
   },
   "outputs": [],
   "source": [
    "def weight_variable(shape):\n",
    "    initial = tf.truncated_normal(shape, stddev=0.1)\n",
    "    return tf.Variable(initial)\n",
    "\n",
    "def bias_variable(shape):\n",
    "    initial = tf.constant(0.1, shape=shape)\n",
    "    return tf.Variable(initial)\n",
    "\n",
    "def conv2d(x, W):\n",
    "    return tf.nn.conv2d(x, W, strides=[1, 1, 1, 1], padding='SAME')\n",
    "\n",
    "def max_pool_2x2(x):\n",
    "    return tf.nn.max_pool(x, ksize=[1, 2, 2, 1], strides=[1, 2, 2, 1], padding='SAME')"
   ]
  },
  {
   "cell_type": "code",
   "execution_count": 357,
   "metadata": {
    "collapsed": false,
    "deletable": true,
    "editable": true
   },
   "outputs": [],
   "source": [
    "x = tf.placeholder(tf.float32, shape=[None, 784])\n",
    "y_ = tf.placeholder(tf.float32, shape=[None, classes_count])\n",
    "\n",
    "# first layer\n",
    "x_image = tf.reshape(x, [-1,28,28,1])\n",
    "W_conv1 = weight_variable([5, 5, 1, 32])\n",
    "b_conv1 = bias_variable([32])\n",
    "h_conv1 = tf.nn.relu(conv2d(x_image, W_conv1) + b_conv1)\n",
    "h_pool1 = max_pool_2x2(h_conv1)\n",
    "\n",
    "# second layer\n",
    "W_conv2 = weight_variable([5, 5, 32, 64])\n",
    "b_conv2 = bias_variable([64])\n",
    "h_conv2 = tf.nn.relu(conv2d(h_pool1, W_conv2) + b_conv2)\n",
    "h_pool2 = max_pool_2x2(h_conv2)\n",
    "\n",
    "# fully connected\n",
    "W_fc1 = weight_variable([7 * 7 * 64, 1024])\n",
    "b_fc1 = bias_variable([1024])\n",
    "h_pool2_flat = tf.reshape(h_pool2, [-1, 7*7*64])\n",
    "h_fc1 = tf.nn.relu(tf.matmul(h_pool2_flat, W_fc1) + b_fc1)\n",
    "\n",
    "# dropout\n",
    "keep_prob = tf.placeholder(tf.float32)\n",
    "h_fc1_drop = tf.nn.dropout(h_fc1, keep_prob)\n",
    "\n",
    "# readout\n",
    "W_fc2 = weight_variable([1024, classes_count])\n",
    "b_fc2 = bias_variable([classes_count])\n",
    "y_conv = tf.matmul(h_fc1_drop, W_fc2) + b_fc2\n",
    "\n",
    "# train\n",
    "cross_entropy = tf.reduce_mean(tf.nn.softmax_cross_entropy_with_logits(labels=y_, logits=y_conv))\n",
    "train_step = tf.train.AdamOptimizer(1e-4).minimize(cross_entropy)\n",
    "correct_prediction = tf.equal(tf.argmax(y_conv,1), tf.argmax(y_,1))\n",
    "accuracy = tf.reduce_mean(tf.cast(correct_prediction, tf.float32))"
   ]
  },
  {
   "cell_type": "code",
   "execution_count": null,
   "metadata": {
    "collapsed": false,
    "deletable": true,
    "editable": true
   },
   "outputs": [
    {
     "name": "stdout",
     "output_type": "stream",
     "text": [
      "epoch 0, step 0, training accuracy 0.04\n",
      "epoch 1, step 0, training accuracy 0.04\n",
      "epoch 2, step 0, training accuracy 0.04\n",
      "epoch 3, step 0, training accuracy 0.04\n"
     ]
    }
   ],
   "source": [
    "training_epochs = 10\n",
    "batch_size = 100\n",
    "    \n",
    "with tf.Session() as sess:\n",
    "    sess.run(tf.global_variables_initializer())\n",
    "    random.shuffle(train_vectors)\n",
    "    for epoch in range(training_epochs):\n",
    "        total_batches = int(np.ceil(len(train_vectors)/batch_size))\n",
    "        for i in range(total_batch):\n",
    "            starting_index = i * batch_size\n",
    "            ending_index = (i + 1) * batch_size\n",
    "            labels, logits = map(list, zip(*train_vectors[starting_index:ending_index]))\n",
    "            if i%1000 == 0:\n",
    "                train_accuracy = accuracy.eval(feed_dict={ x:logits, y_: labels, keep_prob: 1.0})\n",
    "                print(\"epoch %d, step %d, training accuracy %g\"%(epoch, i, train_accuracy))\n",
    "            train_step.run(feed_dict={x: logits, y_: labels, keep_prob: 0.5})\n",
    "\n",
    "    test_labels, test_logits = map(list, zip(*test_vectors))\n",
    "    print(\"test accuracy %g\"%accuracy.eval(feed_dict={\n",
    "        x: test_logits, y_: test_labels, keep_prob: 1.0}))"
   ]
  },
  {
   "cell_type": "code",
   "execution_count": null,
   "metadata": {
    "collapsed": true
   },
   "outputs": [],
   "source": []
  }
 ],
 "metadata": {
  "kernelspec": {
   "display_name": "Python 3",
   "language": "python",
   "name": "python3"
  },
  "language_info": {
   "codemirror_mode": {
    "name": "ipython",
    "version": 3
   },
   "file_extension": ".py",
   "mimetype": "text/x-python",
   "name": "python",
   "nbconvert_exporter": "python",
   "pygments_lexer": "ipython3",
   "version": "3.5.2"
  }
 },
 "nbformat": 4,
 "nbformat_minor": 2
}
